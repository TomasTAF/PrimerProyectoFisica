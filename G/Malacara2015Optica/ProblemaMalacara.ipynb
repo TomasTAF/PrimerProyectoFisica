{
  "nbformat": 4,
  "nbformat_minor": 0,
  "metadata": {
    "colab": {
      "name": "ProblemaMalacara.ipynb",
      "provenance": [],
      "authorship_tag": "ABX9TyM8qPkWClBBnj0RSoReAuSi",
      "include_colab_link": true
    },
    "kernelspec": {
      "name": "python3",
      "display_name": "Python 3"
    }
  },
  "cells": [
    {
      "cell_type": "markdown",
      "metadata": {
        "id": "view-in-github",
        "colab_type": "text"
      },
      "source": [
        "<a href=\"https://colab.research.google.com/github/GretRincon/PrimerProyectoFisica/blob/master/G/Malacara2015Optica/ProblemaMalacara.ipynb\" target=\"_parent\"><img src=\"https://colab.research.google.com/assets/colab-badge.svg\" alt=\"Open In Colab\"/></a>"
      ]
    },
    {
      "cell_type": "markdown",
      "metadata": {
        "id": "fBXHYi0XAGYk",
        "colab_type": "text"
      },
      "source": [
        "# Capitulo 2\n",
        "## Problema 1\n",
        "Deseamos hacer una lente con forma de menisco (concavo-convexa) La potencia de la lente debe ser 4 dioptrias y el radio de curvatura (c) de una cara debe ser tres veces c de la otra. Calcule los radios de curvatura de las caras de la lente.\n"
      ]
    },
    {
      "cell_type": "code",
      "metadata": {
        "id": "iSLY68AW_x3x",
        "colab_type": "code",
        "colab": {
          "base_uri": "https://localhost:8080/",
          "height": 90
        },
        "outputId": "770f580e-2261-42e7-f12a-0574a6bee250"
      },
      "source": [
        "#Buscaremos los radios partiendo de una potencia necesaria y un indice de refraccion\n",
        "P=float(input(\"Ingresa La potencia que necesitas para tu lente menisco \"))\n",
        "n=float(input(\"Ingresa el indice de refracción de tu material para fabricar el lente \"))\n",
        "nm=float(input(\"Ingresa el indice de refracción del medio \"))\n",
        "R1=(n-nm)/(2*P*nm)\n",
        "R2=3*R1\n",
        "print(\"Tu lente debe tener un radio menor y un radio mayor de \", R1,\"m y\", R2, \"m\")\n",
        "\n"
      ],
      "execution_count": 9,
      "outputs": [
        {
          "output_type": "stream",
          "text": [
            "Ingresa La potencia que necesitas para tu lente menisco 4\n",
            "Ingresa el indice de refracción de tu material para fabricar el lente 1.52\n",
            "Ingresa el indice de refracción del medio 1\n",
            "Tu lente debe tener un radio menor y un radio mayor de  0.065 m y 0.195 m\n"
          ],
          "name": "stdout"
        }
      ]
    }
  ]
}