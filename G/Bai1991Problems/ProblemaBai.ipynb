{
  "nbformat": 4,
  "nbformat_minor": 0,
  "metadata": {
    "colab": {
      "name": "ProblemaBai.ipynb",
      "provenance": [],
      "authorship_tag": "ABX9TyMGlNlK7vkGPRw0jzaov24a",
      "include_colab_link": true
    },
    "kernelspec": {
      "name": "python3",
      "display_name": "Python 3"
    }
  },
  "cells": [
    {
      "cell_type": "markdown",
      "metadata": {
        "id": "view-in-github",
        "colab_type": "text"
      },
      "source": [
        "<a href=\"https://colab.research.google.com/github/GretRincon/PrimerProyectoFisica/blob/master/G/Bai1991Problems/ProblemaBai.ipynb\" target=\"_parent\"><img src=\"https://colab.research.google.com/assets/colab-badge.svg\" alt=\"Open In Colab\"/></a>"
      ]
    },
    {
      "cell_type": "markdown",
      "metadata": {
        "id": "yHHaL3-_wrdL",
        "colab_type": "text"
      },
      "source": [
        "# Problema Bai 1991 \n",
        "## Capitulo 1 Problema 3\n",
        "Una barra rectangular de vidrio con forma de U invertida tiene sus dos extremos planos Determine el valor mínimo para la relación R/d para que un haz de luz que entre por el extremo A y salga completamente por el extremo B Donde d es el ancho de la barra, y R es el diametro de la curvatura El indice de refraccion del vidrio es de 1.5"
      ]
    },
    {
      "cell_type": "markdown",
      "metadata": {
        "id": "m6wWo4ujwyb2",
        "colab_type": "text"
      },
      "source": [
        "# Primera parte \n",
        "Un programa en el cual ingreses el radio, que necesitas tu U invertida y te devuelve el ancho necesario para optimizar tu barra. Imaginemos que la barra se utiliza para transmitir información"
      ]
    },
    {
      "cell_type": "code",
      "metadata": {
        "id": "9occRgenwmy9",
        "colab_type": "code",
        "outputId": "aafa2c29-978f-4577-c19f-c3fea66251f0",
        "colab": {
          "base_uri": "https://localhost:8080/",
          "height": 54
        }
      },
      "source": [
        "R=float(input(\"Ingrese el radio de su U invertida en metros \"))\n",
        "d=R/2\n",
        "print(\"El ancho necesario es al menos la mitad del radio\", d, \"m\")"
      ],
      "execution_count": 0,
      "outputs": [
        {
          "output_type": "stream",
          "text": [
            "Ingrese el radio de su U invertida en metros 3\n",
            "El ancho necesario es al menos la mitad del radio 1.5 m\n"
          ],
          "name": "stdout"
        }
      ]
    },
    {
      "cell_type": "markdown",
      "metadata": {
        "id": "XbmySsws0dfz",
        "colab_type": "text"
      },
      "source": [
        "Evidentemente este problema no era más que encontrar una relacion proporcional demasiado sencilla, mi error por escoger este problema. Pero al menos hagamos un programa que puedas meter tus propios valores"
      ]
    },
    {
      "cell_type": "code",
      "metadata": {
        "id": "3Kk8qFIz0qS7",
        "colab_type": "code",
        "outputId": "bb4c0621-19d4-4a83-9edf-96f2c3a096ad",
        "colab": {
          "base_uri": "https://localhost:8080/",
          "height": 201
        }
      },
      "source": [
        "print(\"En este programa encontraremos las medidas ideales para estructuras U inversas\")\n",
        "print(\"Le desplegamos un menú del cuál podrá elegir que dato le hace falta encontrar\")\n",
        "print(\"Menú\") #Mejorar el menú\n",
        "print(\"1) Radio\")\n",
        "print(\"2) Ancho\")\n",
        "print(\"3) Indice de refracción\")\n",
        "x=input(\"Ingrese que opción desea buscar \")\n",
        "def pregAncho():\n",
        "  d=float(input(\"Ingrese el ancho de la barra en metros \"))\n",
        "  return d\n",
        "def pregRadio():\n",
        "  R=float(input(\"Ingrese el radio formado en metros\"))\n",
        "  return R\n",
        "def pregn():\n",
        "  n=float(input(\"Ingrese el índice de refracción de la barra\"))\n",
        "  return n\n",
        "\n",
        "if x==\"1\": #Entradas\n",
        "  d=pregAncho() #Pregunta datos\n",
        "  n=pregn()\n",
        "  R=d/(n-1)  #Resuelve operacion desde  la formula obtenida manualmente con las propiedades geometricas, mas información en el README\n",
        "  print(\"El radio necesario es de al menos\",R, \"m\" )\n",
        "elif x==\"2\":\n",
        "  R=pregRadio()\n",
        "  n=pregn()\n",
        "  d=(n-1)*R\n",
        "  print(\"El ancho necesario es de al menos\",d, \"m\" )\n",
        "elif x==\"3\":\n",
        "  d=pregAncho()\n",
        "  R=pregRadio()\n",
        "  n=d/R+1\n",
        "  print(\"El indice de refracción necesario es de \",n )\n",
        " \n"
      ],
      "execution_count": 0,
      "outputs": [
        {
          "output_type": "stream",
          "text": [
            "En este programa encontraremos las medidas ideales para estructuras U inversas\n",
            "Le desplegamos un menú del cuál podrá elegir que dato le hace falta encontrar\n",
            "Menú\n",
            "1) Radio\n",
            "2) Ancho\n",
            "3) Indice de refracción\n",
            "Ingrese que opción desea buscar 1\n",
            "Ingrese el ancho de la barra en metros 3\n",
            "Ingrese el índice de refracción de la barra1.52\n",
            "El radio necesario es de al menos 5.769230769230769 m\n"
          ],
          "name": "stdout"
        }
      ]
    },
    {
      "cell_type": "markdown",
      "metadata": {
        "id": "mTbLQlUYBOkB",
        "colab_type": "text"
      },
      "source": [
        "Agregemos algo mas ilustrativo, si hablamos de aplicaciones, algo así como una tabla para ingenieria, pero con gráficas"
      ]
    },
    {
      "cell_type": "code",
      "metadata": {
        "id": "AhBgJEXFBNdM",
        "colab_type": "code",
        "outputId": "aae1e704-20bb-4c0b-b760-322673e8f438",
        "colab": {
          "base_uri": "https://localhost:8080/",
          "height": 320
        }
      },
      "source": [
        "#Hagamos una grafica con indice de refracción fijo \n",
        "#R vs d, Radio vs Ancho \n",
        "#Y viceversa\n",
        "import numpy as np\n",
        "import matplotlib.pyplot as plt\n",
        "#Ingresa el indice de refraccion del medio\n",
        "nm=float(input(\"Ingrese el índice de refracción del medio \"))\n",
        "#Ingresa el indice de refraccion del material\n",
        "n=float(input(\"Ingrese el índice de refracción de la barra \"))\n",
        "n=1.5\n",
        "R=np.linspace(0,100)\n",
        "d=R*(n-nm)/nm\n",
        "plt.plot(R,d)\n",
        "\n",
        "#Jaja esto es inútil. Esta representación no sirve para mucho. No hay relación directa con el ángulo\n",
        "#Seria mas interesante con indice cambiante. Algo así como un fluido no newtoniano"
      ],
      "execution_count": 0,
      "outputs": [
        {
          "output_type": "stream",
          "text": [
            "Ingrese el índice de refracción del medio 1\n",
            "Ingrese el índice de refracción de la barra 1.5\n"
          ],
          "name": "stdout"
        },
        {
          "output_type": "execute_result",
          "data": {
            "text/plain": [
              "[<matplotlib.lines.Line2D at 0x7fabb437c550>]"
            ]
          },
          "metadata": {
            "tags": []
          },
          "execution_count": 2
        },
        {
          "output_type": "display_data",
          "data": {
            "image/png": "[encoded data removed]",
            "text/plain": [
              "<Figure size 432x288 with 1 Axes>"
            ]
          },
          "metadata": {
            "tags": [],
            "needs_background": "light"
          }
        }
      ]
    }
  ]
}